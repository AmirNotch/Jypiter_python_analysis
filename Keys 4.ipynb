{
 "cells": [
  {
   "cell_type": "code",
   "execution_count": 1,
   "metadata": {},
   "outputs": [
    {
     "name": "stdout",
     "output_type": "stream",
     "text": [
      "0\n"
     ]
    }
   ],
   "source": [
    "# Keys 4\n",
    "number = [0, 0, 2, 3, 0, 3, 3, 4, 2, 0, 2, 0, 1, 4, 0]\n",
    "\n",
    "number_set = set(number)\n",
    "most_common = None\n",
    "pty = 0\n",
    "\n",
    "for item in number_set:\n",
    "    qty = number.count(item)\n",
    "    if qty > pty:\n",
    "        pty = qty\n",
    "        most_common = item\n",
    "\n",
    "print(most_common)"
   ]
  },
  {
   "cell_type": "code",
   "execution_count": null,
   "metadata": {},
   "outputs": [],
   "source": []
  }
 ],
 "metadata": {
  "kernelspec": {
   "display_name": "Python 3",
   "language": "python",
   "name": "python3"
  },
  "language_info": {
   "codemirror_mode": {
    "name": "ipython",
    "version": 3
   },
   "file_extension": ".py",
   "mimetype": "text/x-python",
   "name": "python",
   "nbconvert_exporter": "python",
   "pygments_lexer": "ipython3",
   "version": "3.8.5"
  }
 },
 "nbformat": 4,
 "nbformat_minor": 4
}
