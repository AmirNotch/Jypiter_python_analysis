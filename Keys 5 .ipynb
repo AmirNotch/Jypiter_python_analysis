{
 "cells": [
  {
   "cell_type": "code",
   "execution_count": 1,
   "metadata": {},
   "outputs": [
    {
     "name": "stdout",
     "output_type": "stream",
     "text": [
      "Первый способ вывод ключей\n",
      "1\n",
      "2\n",
      "3\n",
      "4\n",
      "Второй способ вывод ключей\n",
      "dict_keys([1, 2, 3, 4])\n",
      "\n",
      "Первый способ вывод значений\n",
      "one\n",
      "two\n",
      "three\n",
      "four\n",
      "Второй способ вывод значений\n",
      "dict_values(['one', 'two', 'three', 'four'])\n",
      "{1: 'one', 2: 'two', 3: 'three', 4: 'four'}\n",
      "{1: 'one', 2: 'two', 3: 'three', 4: 'four', 5: 'five', 6: 'six'}\n"
     ]
    }
   ],
   "source": [
    "# Задача 1\n",
    "a = {1: 'one', 2: 'two', 3: 'two'}\n",
    "a[4]=\"four\"\n",
    "a.update({3:'three'})\n",
    "print('Первый способ вывод ключей')\n",
    "for key in a:\n",
    "    print(key)\n",
    "keys = a.keys()\n",
    "print('Второй способ вывод ключей')\n",
    "print(keys)\n",
    "print()\n",
    "print('Первый способ вывод значений')\n",
    "for key in a.values():\n",
    "    print(key)\n",
    "print('Второй способ вывод значений')\n",
    "values = a.values()\n",
    "print(values)\n",
    "print(a)\n",
    "b = {5: 'five', 6: 'six'}\n",
    "print({**a, **b})"
   ]
  },
  {
   "cell_type": "code",
   "execution_count": 10,
   "metadata": {},
   "outputs": [
    {
     "name": "stdout",
     "output_type": "stream",
     "text": [
      "192\n",
      "30\n",
      "{'4а': 30, '5а': 30}\n",
      "192\n"
     ]
    }
   ],
   "source": [
    "# Задача 2\n",
    "school = {'1a':20,'1б':22,'2а':18,'2б':28,'3а':15,'4а':30,'5а':30,'6б':13,'6а':16}\n",
    "totalPuple = 0\n",
    "for value in school.values():\n",
    "    totalPuple += value\n",
    "print(totalPuple)\n",
    "\n",
    "a = 0\n",
    "for value in school.values():\n",
    "    if a < value:\n",
    "       a = value\n",
    "print(a)\n",
    "\n",
    "# второй спосб вывода макс   max_value = max(school.values())\n",
    "# print(max_value)\n",
    "\n",
    "final_dict = {k: v for k, v in school.items() if v == a}\n",
    "print(final_dict)\n",
    "totalPupple = 0\n",
    "\n",
    "highClass = '5a'\n",
    "for key, value in school.items():\n",
    "    if key == highClass:\n",
    "        break\n",
    "    else:\n",
    "        totalPupple += value\n",
    "print(totalPupple)"
   ]
  },
  {
   "cell_type": "code",
   "execution_count": null,
   "metadata": {},
   "outputs": [],
   "source": []
  },
  {
   "cell_type": "code",
   "execution_count": null,
   "metadata": {},
   "outputs": [],
   "source": []
  }
 ],
 "metadata": {
  "kernelspec": {
   "display_name": "Python 3",
   "language": "python",
   "name": "python3"
  },
  "language_info": {
   "codemirror_mode": {
    "name": "ipython",
    "version": 3
   },
   "file_extension": ".py",
   "mimetype": "text/x-python",
   "name": "python",
   "nbconvert_exporter": "python",
   "pygments_lexer": "ipython3",
   "version": "3.8.5"
  }
 },
 "nbformat": 4,
 "nbformat_minor": 4
}
